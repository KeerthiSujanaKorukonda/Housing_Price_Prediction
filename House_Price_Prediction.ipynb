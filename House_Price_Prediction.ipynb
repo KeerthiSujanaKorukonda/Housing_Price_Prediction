{
  "nbformat": 4,
  "nbformat_minor": 0,
  "metadata": {
    "colab": {
      "provenance": []
    },
    "kernelspec": {
      "name": "python3",
      "display_name": "Python 3"
    },
    "language_info": {
      "name": "python"
    }
  },
  "cells": [
    {
      "cell_type": "code",
      "execution_count": 3,
      "metadata": {
        "id": "j3XRXeo4rXD2"
      },
      "outputs": [],
      "source": [
        "import pandas as pd\n",
        "import numpy as np\n",
        "from sklearn.model_selection import train_test_split\n",
        "from sklearn.preprocessing import OneHotEncoder, StandardScaler\n",
        "from sklearn.linear_model import LinearRegression\n",
        "from sklearn.ensemble import RandomForestRegressor\n",
        "import tensorflow as tf\n",
        "from sklearn.metrics import mean_squared_error\n",
        "from joblib import dump, load\n"
      ]
    },
    {
      "cell_type": "code",
      "source": [
        "# Load the dataset\n",
        "data = pd.read_csv(\"AmesHousing.csv\")\n",
        "\n",
        "# Handle missing values (choose an appropriate strategy)\n",
        "data = data.fillna(method=\"ffill\")  # Example: Filling with previous valid values\n",
        "\n",
        "# Separate features and target variable\n",
        "features = data.drop(\"SalePrice\", axis=1)\n",
        "target = data[\"SalePrice\"]\n",
        "\n",
        "# Encode categorical features\n",
        "encoder = OneHotEncoder(handle_unknown=\"ignore\")\n",
        "encoded_features = encoder.fit_transform(features).toarray()\n",
        "\n",
        "# Standardize numerical features\n",
        "scaler = StandardScaler()\n",
        "scaled_features = scaler.fit_transform(encoded_features)\n"
      ],
      "metadata": {
        "id": "Q0vIDdc2sLMn"
      },
      "execution_count": 4,
      "outputs": []
    },
    {
      "cell_type": "code",
      "source": [
        "X_train, X_val, y_train, y_val = train_test_split(\n",
        "    scaled_features, target, test_size=0.2, random_state=42\n",
        ")\n",
        "\n",
        "X_train, X_test, y_train, y_test = train_test_split(\n",
        "    X_train, y_train, test_size=0.25, random_state=42  # Adjust test_size as needed\n",
        ")\n"
      ],
      "metadata": {
        "id": "BNSnvQSusUp0"
      },
      "execution_count": 6,
      "outputs": []
    },
    {
      "cell_type": "code",
      "source": [
        "models = [\n",
        "    (\"Linear Regression\", LinearRegression()),\n",
        "    (\"Random Forest\", RandomForestRegressor(n_estimators=100, random_state=42)),\n",
        "    (\n",
        "        \"TensorFlow Neural Network\",\n",
        "        tf.keras.models.Sequential(\n",
        "            [\n",
        "                tf.keras.layers.Dense(128, activation=\"relu\"),\n",
        "                tf.keras.layers.Dense(64, activation=\"relu\"),\n",
        "                tf.keras.layers.Dense(1),\n",
        "            ]\n",
        "        ),\n",
        "    ),\n",
        "]\n",
        "\n",
        "best_model = None\n",
        "best_mse = np.inf\n",
        "for name, model in models:\n",
        "    if isinstance(model, tf.keras.Model):  # Check if it's a TensorFlow model\n",
        "        model.compile(optimizer=\"adam\", loss=\"mse\")  # Compile before fitting\n",
        "    model.fit(X_train, y_train)  # Now you can fit the model\n",
        "\n",
        "    y_pred = model.predict(X_val)\n",
        "    mse = mean_squared_error(y_val, y_pred)\n",
        "    print(f\"{name} MSE: {mse}\")\n",
        "\n",
        "    if mse < best_mse:\n",
        "        best_model = model\n",
        "        best_mse = mse\n"
      ],
      "metadata": {
        "colab": {
          "base_uri": "https://localhost:8080/",
          "height": 0
        },
        "id": "rfv3P4UIsvPQ",
        "outputId": "53f95485-e11b-42d1-8588-1f6d612c1a10"
      },
      "execution_count": 13,
      "outputs": [
        {
          "output_type": "stream",
          "name": "stdout",
          "text": [
            "Linear Regression MSE: 2889789859.3884535\n",
            "Random Forest MSE: 1248144730.3183239\n",
            "55/55 [==============================] - 2s 26ms/step - loss: 38184263680.0000\n",
            "19/19 [==============================] - 0s 6ms/step\n",
            "TensorFlow Neural Network MSE: 43968316945.254486\n"
          ]
        }
      ]
    },
    {
      "cell_type": "code",
      "source": [
        "import pandas as pd\n",
        "\n",
        "# Create DataFrames from NumPy arrays\n",
        "X_train_df = pd.DataFrame(X_train)\n",
        "X_test_df = pd.DataFrame(X_test)\n",
        "y_train_df = pd.DataFrame(y_train)\n",
        "y_test_df = pd.DataFrame(y_test)\n",
        "\n",
        "# Save DataFrames to CSV\n",
        "X_train_df.to_csv(\"X_train.csv\", index=False)\n",
        "X_test_df.to_csv(\"X_test.csv\", index=False)\n",
        "y_train_df.to_csv(\"y_train.csv\", index=False)\n",
        "y_test_df.to_csv(\"y_test.csv\", index=False)\n"
      ],
      "metadata": {
        "id": "Y88rV0cAue3e"
      },
      "execution_count": 12,
      "outputs": []
    },
    {
      "cell_type": "code",
      "source": [
        "if isinstance(best_model, LinearRegression) or isinstance(best_model, RandomForestRegressor):\n",
        "    dump(best_model, \"best_model.joblib\")\n",
        "else:\n",
        "    best_model.save(\"best_model.h5\")\n"
      ],
      "metadata": {
        "id": "e-te3ERbv9oq"
      },
      "execution_count": 14,
      "outputs": []
    },
    {
      "cell_type": "code",
      "source": [
        "loaded_model = load(\"best_model.joblib\")  # Or load TensorFlow model using model.load\n",
        "y_pred_test = loaded_model.predict(X_test)\n",
        "mse_test = mean_squared_error(y_test, y_pred_test)\n",
        "print(\"Test Set MSE:\", mse_test)\n"
      ],
      "metadata": {
        "colab": {
          "base_uri": "https://localhost:8080/",
          "height": 0
        },
        "id": "GDdfw_BXwRiq",
        "outputId": "4813a3a6-afaf-440f-a336-e7b6f2895217"
      },
      "execution_count": 15,
      "outputs": [
        {
          "output_type": "stream",
          "name": "stdout",
          "text": [
            "Test Set MSE: 899509600.2786767\n"
          ]
        }
      ]
    }
  ]
}